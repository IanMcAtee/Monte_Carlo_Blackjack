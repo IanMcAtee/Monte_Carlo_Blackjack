{
 "cells": [
  {
   "cell_type": "code",
   "execution_count": 114,
   "id": "2b6d5f4e",
   "metadata": {},
   "outputs": [],
   "source": [
    "#MONTE CARLO LEARNING FOR BLACKJACK\n",
    "#AUTHOR: Ian McAtee\n",
    "#DATE: 12/20/2021\n",
    "\n",
    "#Import OpenAI Gym and set the environment to blackjack\n",
    "import gym\n",
    "env = gym.make('Blackjack-v1')"
   ]
  },
  {
   "cell_type": "code",
   "execution_count": 115,
   "id": "166e6fc4",
   "metadata": {},
   "outputs": [],
   "source": [
    "#FUNCTION TO GENERATE BLACKJACK EPISODE\n",
    "\n",
    "import numpy as np\n",
    "\n",
    "def genEpisodeStochastic(env):\n",
    "    #Initialize episode as empty list\n",
    "    episode = []\n",
    "    #Reset the blackjack environment\n",
    "    state = env.reset() \n",
    "    while True:\n",
    "        #Set probabilities, i.e. hit w/ 80% chance, stay w/ 20% and vice versa depending if under/over 17\n",
    "        probs = [0.8, 0.2] if state[0] > 18 else [0.2, 0.8]\n",
    "        #Choose hit or stay based on probabilities\n",
    "        action = np.random.choice([0,1], p=probs)\n",
    "        #Apply action to environemnt, get next state, reward, and is done signal\n",
    "        nextState, reward, done, info = env.step(action)\n",
    "        #Append tuple to episode\n",
    "        episode.append((state, action, reward))\n",
    "        #Set state to next state\n",
    "        state = nextState\n",
    "        #Break if done with blackjack hand\n",
    "        if done:\n",
    "            break\n",
    "    return episode\n"
   ]
  },
  {
   "cell_type": "code",
   "execution_count": 116,
   "id": "c4ef84ac",
   "metadata": {},
   "outputs": [],
   "source": [
    "#MONTE CARLO LEARNING FUNCTION\n",
    "\n",
    "def MCLearn(env,numHands):\n",
    "    print('Monte Carlo Learning In Progress...')\n",
    "    \n",
    "    #Initilize Q-table, returns, and policy to emputy dictionary\n",
    "    Q = dict()\n",
    "    returns = dict()\n",
    "    policy = dict()\n",
    "    \n",
    "    for i in range(numHands):\n",
    "        #Generate episode (i.e. a blackjack round)\n",
    "        episode = genEpisodeStochastic(env)\n",
    "        \n",
    "        for j in range(len(episode)):\n",
    "            #Get state, action, reward from this sample in the episode\n",
    "            state = episode[j][0] \n",
    "            action = episode[j][1] \n",
    "            reward = episode[j][2]\n",
    "            \n",
    "            #If first time encountering a state, set returns for both actions to null array\n",
    "            if state not in returns:\n",
    "                returns[state] = dict((action, []) for action in [0,1])\n",
    "            \n",
    "            #Append the reward to the returns of that state and action \n",
    "            returns[state][action].append(reward)\n",
    "            #print('Return: ',returns[state][action])\n",
    "            \n",
    "            #Initialize the Q-table to zero if state has not been encountered\n",
    "            if state not in Q:\n",
    "                Q[state] = dict((action, 0.0) for action in [0,1])\n",
    "            \n",
    "            #Set the Q-value of the action-state pair to the average of all returns thus far\n",
    "            Q[state][action] = np.average(returns[state][action])\n",
    "            #print('Q: ', Q[state])\n",
    "            \n",
    "            #Update the policy via a greedy query of the q-table\n",
    "            maxQ = max(Q[state].values())\n",
    "            for k in [0,1]:\n",
    "                if Q[state][k] == maxQ:\n",
    "                    policy[state] = k\n",
    "            #print('Policy: ', policy[state])\n",
    "        \n",
    "        #Display MC Learning progress\n",
    "        if i%100000 == 0:\n",
    "            print('Done with hand: ',i)\n",
    "            \n",
    "    return policy\n",
    "        "
   ]
  },
  {
   "cell_type": "code",
   "execution_count": 117,
   "id": "85bf6e32",
   "metadata": {},
   "outputs": [
    {
     "name": "stdout",
     "output_type": "stream",
     "text": [
      "Monte Carlo Learning In Progress...\n",
      "Done with hand:  0\n",
      "Done with hand:  100000\n",
      "Done with hand:  200000\n",
      "Done with hand:  300000\n",
      "Done with hand:  400000\n",
      "Done with hand:  500000\n",
      "Done with hand:  600000\n",
      "Done with hand:  700000\n",
      "Done with hand:  800000\n",
      "Done with hand:  900000\n",
      "Done with hand:  1000000\n",
      "Done with hand:  1100000\n",
      "Done with hand:  1200000\n",
      "Done with hand:  1300000\n",
      "Done with hand:  1400000\n",
      "Done with hand:  1500000\n",
      "Done with hand:  1600000\n",
      "Done with hand:  1700000\n",
      "Done with hand:  1800000\n",
      "Done with hand:  1900000\n"
     ]
    }
   ],
   "source": [
    "#PERFORM MONTE CARLO LEARNING\n",
    "policy = MCLearn(env,2000000) #Number is number of blackjack hands to play to learn"
   ]
  },
  {
   "cell_type": "code",
   "execution_count": 118,
   "id": "e782a280",
   "metadata": {},
   "outputs": [
    {
     "data": {
      "image/png": "[encoded data removed]",
      "text/plain": [
       "<Figure size 432x288 with 1 Axes>"
      ]
     },
     "metadata": {
      "needs_background": "light"
     },
     "output_type": "display_data"
    },
    {
     "data": {
      "image/png": "[encoded data removed]",
      "text/plain": [
       "<Figure size 432x288 with 1 Axes>"
      ]
     },
     "metadata": {
      "needs_background": "light"
     },
     "output_type": "display_data"
    }
   ],
   "source": [
    "#DISPLAY THE MC LEARNED POLICY\n",
    "\n",
    "import matplotlib.pyplot as plt\n",
    "\n",
    "#Initialize some necessary variables\n",
    "possSumNoAce = range(4,22)\n",
    "possSumAce = range(12,22)\n",
    "possUpCard = range(1,11)\n",
    "\n",
    "#Initialize the no usable and usable ace policy table matrices\n",
    "policyTableAce = [[str(0) for i in possUpcard] for j in possSumAce]\n",
    "policyTableNoAce = [[str(0) for i in possUpcard] for j in possSumNoAce]\n",
    "\n",
    "#Format the policy table for no usable ace\n",
    "for i in possSumNoAce:\n",
    "    for j in possUpCard:\n",
    "        state = (i,j,False)\n",
    "        policyTableNoAce[i-4][j-1] = policy[state]\n",
    "\n",
    "#Format the policy table for usable ace\n",
    "for i in possSumAce:\n",
    "    for j in possUpCard:\n",
    "        state = (i,j,True)\n",
    "        policyTableAce[i-12][j-1] = policy[state]\n",
    "\n",
    "\n",
    "#Plot the no usable ace policy\n",
    "plt.imshow(policyTableNoAce, cmap='hot', interpolation='nearest')\n",
    "plt.gca().invert_yaxis()\n",
    "plt.suptitle('Policy: No Usable Ace')\n",
    "plt.title('Black = Stay, White = Hit')\n",
    "plt.xticks(range(0,10),['A','2','3','4','5','6','7','8','9','10'])\n",
    "plt.yticks(range(0,18),range(4,22))\n",
    "plt.xlabel('Dealer Up Card')\n",
    "plt.ylabel('Agent Hand Sum')\n",
    "plt.show()   \n",
    "\n",
    "#Plot the usable ace policy\n",
    "plt.imshow(policyTableAce, cmap='hot', interpolation='nearest')\n",
    "plt.gca().invert_yaxis()\n",
    "plt.suptitle('Policy: Usable Ace')\n",
    "plt.title('Black = Stay, White = Hit')\n",
    "plt.xticks(range(0,10),['A','2','3','4','5','6','7','8','9','10'])\n",
    "plt.yticks(range(0,10),range(12,22))\n",
    "plt.xlabel('Dealer Up Card')\n",
    "plt.ylabel('Agent Hand Sum')\n",
    "plt.show()  "
   ]
  },
  {
   "cell_type": "code",
   "execution_count": 119,
   "id": "37ba3baa",
   "metadata": {},
   "outputs": [
    {
     "name": "stdout",
     "output_type": "stream",
     "text": [
      "Heuristic Wins:  41128\n",
      "MC Wins:  43327\n"
     ]
    }
   ],
   "source": [
    "#TEST THE MC POLICY AGAINST A HEURISTIC (HIT < 17) POLICY \n",
    "\n",
    "#Number of blackjack hands to play \n",
    "numHands = 100000\n",
    "\n",
    "#Initialize the number of wins\n",
    "winsH = 0\n",
    "winsMC = 0\n",
    "\n",
    "#Play number of hands with heuristic policy, tally number of wins\n",
    "for i in range(numHands):\n",
    "    state = env.reset()\n",
    "    done = False\n",
    "    while not done:\n",
    "        if state[0] < 17:\n",
    "            action = 1\n",
    "        else:\n",
    "            action = 0\n",
    "        nextState, reward, done, _ = env.step(action)\n",
    "        state = nextState\n",
    "        if reward == 1.0:\n",
    "            winsH += 1\n",
    "\n",
    "#Play number of hands with MC policy, tally number of wins\n",
    "for i in range(numHands):\n",
    "    state = env.reset()\n",
    "    done = False\n",
    "    while not done:\n",
    "        action = policy[state]\n",
    "        nextState, reward, done, _ = env.step(action)\n",
    "        state = nextState\n",
    "        if reward == 1.0:\n",
    "            winsMC += 1\n",
    "\n",
    "#Display wins for each policy\n",
    "print('Heuristic Wins: ', winsH)\n",
    "print('MC Wins: ', winsMC)\n"
   ]
  }
 ],
 "metadata": {
  "kernelspec": {
   "display_name": "Python 3",
   "language": "python",
   "name": "python3"
  },
  "language_info": {
   "codemirror_mode": {
    "name": "ipython",
    "version": 3
   },
   "file_extension": ".py",
   "mimetype": "text/x-python",
   "name": "python",
   "nbconvert_exporter": "python",
   "pygments_lexer": "ipython3",
   "version": "3.8.8"
  }
 },
 "nbformat": 4,
 "nbformat_minor": 5
}
